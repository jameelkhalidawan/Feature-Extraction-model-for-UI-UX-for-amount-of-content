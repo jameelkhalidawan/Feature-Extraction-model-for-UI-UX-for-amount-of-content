{
  "nbformat": 4,
  "nbformat_minor": 0,
  "metadata": {
    "colab": {
      "provenance": [],
      "gpuType": "T4"
    },
    "kernelspec": {
      "name": "python3",
      "display_name": "Python 3"
    },
    "language_info": {
      "name": "python"
    },
    "accelerator": "GPU"
  },
  "cells": [
    {
      "cell_type": "code",
      "execution_count": 59,
      "metadata": {
        "colab": {
          "base_uri": "https://localhost:8080/"
        },
        "id": "94z8m5dArzX_",
        "outputId": "0e55fe8d-1602-41f0-9853-36f95b8ce545"
      },
      "outputs": [
        {
          "output_type": "stream",
          "name": "stdout",
          "text": [
            "Drive already mounted at /content/gdrive; to attempt to forcibly remount, call drive.mount(\"/content/gdrive\", force_remount=True).\n"
          ]
        }
      ],
      "source": [
        "import pandas as pd\n",
        "import numpy as np\n",
        "import tensorflow as tf\n",
        "from tensorflow.keras.preprocessing.image import load_img, img_to_array\n",
        "from sklearn.preprocessing import LabelEncoder\n",
        "from sklearn.model_selection import train_test_split\n",
        "from sklearn.metrics import accuracy_score, mean_squared_error\n",
        "from tensorflow.keras.models import Sequential\n",
        "from tensorflow.keras.layers import Conv2D, MaxPooling2D, Flatten, Dense, Dropout\n",
        "from tensorflow.keras.optimizers import Adam\n",
        "from google.colab import drive\n",
        "\n",
        "drive.mount('/content/gdrive')"
      ]
    },
    {
      "cell_type": "code",
      "source": [
        "# Load CSV file\n",
        "csv_path = \"/content/gdrive/My Drive/labx15.csv\"\n",
        "image_folder_path = \"/content/gdrive/My Drive/dataset final\"\n",
        "\n",
        "df = pd.read_csv(csv_path)\n",
        "\n",
        "# Define target variable\n",
        "target = df['Amount of Content']\n",
        "\n",
        "# Resize and convert images to numpy arrays\n",
        "image_data = []\n",
        "for image_name in df['Image Name']:\n",
        "    image_path = f\"{image_folder_path}/{image_name}\"\n",
        "    image = load_img(image_path, target_size=(224, 224))\n",
        "    image_array = img_to_array(image)\n",
        "    image_data.append(image_array)\n",
        "\n",
        "image_data = np.array(image_data)"
      ],
      "metadata": {
        "id": "8_3cirVY-zlA"
      },
      "execution_count": 60,
      "outputs": []
    },
    {
      "cell_type": "code",
      "source": [
        "# Map each image with the target variable\n",
        "# Drop Image Name column\n",
        "df = df.drop(columns=['Image Name'])\n",
        "\n",
        "# Label encode target variable\n",
        "encoder = LabelEncoder()\n",
        "target_encoded = encoder.fit_transform(target)\n",
        "print(\"Encoding mapping:\")\n",
        "for idx, label in enumerate(encoder.classes_):\n",
        "    print(f\"{label} -> {idx}\")"
      ],
      "metadata": {
        "colab": {
          "base_uri": "https://localhost:8080/"
        },
        "id": "KbpWW1mW_AV6",
        "outputId": "69337645-42eb-4461-c364-3790f03c3bd0"
      },
      "execution_count": 61,
      "outputs": [
        {
          "output_type": "stream",
          "name": "stdout",
          "text": [
            "Encoding mapping:\n",
            "High -> 0\n",
            "Low -> 1\n",
            "Moderate -> 2\n"
          ]
        }
      ]
    },
    {
      "cell_type": "code",
      "source": [
        "\n",
        "# Split dataset into train and test sets\n",
        "X_train, X_test, y_train, y_test = train_test_split(image_data, target_encoded, test_size=0.2, random_state=42)\n"
      ],
      "metadata": {
        "id": "O22stlj3-7sy"
      },
      "execution_count": 62,
      "outputs": []
    },
    {
      "cell_type": "code",
      "source": [
        "# Define hyperparameters\n",
        "batch_size = 32\n",
        "\n",
        "epochs = 5\n",
        "learning_rate = 0.001\n",
        "\n",
        "\n",
        "\n",
        "\n",
        "\n",
        "# Define CNN model architecture\n",
        "model = Sequential([\n",
        "    Conv2D(32, (3, 3), activation='relu', input_shape=(224, 224, 3)),\n",
        "    MaxPooling2D((2, 2)),\n",
        "    Conv2D(64, (3, 3), activation='relu'),\n",
        "    MaxPooling2D((2, 2)),\n",
        "    Conv2D(100, (3, 3), activation='relu'),\n",
        "    MaxPooling2D((2, 2)),\n",
        "    Flatten(),\n",
        "    Dense(128, activation='relu'),\n",
        "    Dropout(0.4),\n",
        "    Dense(3, activation='softmax')\n",
        "])"
      ],
      "metadata": {
        "id": "vqUThtGS-znb"
      },
      "execution_count": 73,
      "outputs": []
    },
    {
      "cell_type": "code",
      "source": [
        "\n",
        "# Compile the model\n",
        "optimizer = Adam(learning_rate=learning_rate)\n",
        "model.compile(optimizer=optimizer, loss='sparse_categorical_crossentropy', metrics=['accuracy'])\n"
      ],
      "metadata": {
        "id": "XIsPgFy5-zpu"
      },
      "execution_count": 74,
      "outputs": []
    },
    {
      "cell_type": "code",
      "source": [
        "\n",
        "# Train the model\n",
        "history = model.fit(X_train, y_train, epochs=epochs, batch_size=batch_size, validation_split=0.2)\n"
      ],
      "metadata": {
        "colab": {
          "base_uri": "https://localhost:8080/"
        },
        "id": "3o7RBv0R-zsX",
        "outputId": "04cdf886-94f5-4857-bbc9-b0ed87117024"
      },
      "execution_count": 75,
      "outputs": [
        {
          "output_type": "stream",
          "name": "stdout",
          "text": [
            "Epoch 1/5\n",
            "26/26 [==============================] - 4s 78ms/step - loss: 93.3172 - accuracy: 0.5768 - val_loss: 0.9308 - val_accuracy: 0.6957\n",
            "Epoch 2/5\n",
            "26/26 [==============================] - 1s 54ms/step - loss: 0.8677 - accuracy: 0.7316 - val_loss: 0.9253 - val_accuracy: 0.7826\n",
            "Epoch 3/5\n",
            "26/26 [==============================] - 2s 64ms/step - loss: 0.7748 - accuracy: 0.7932 - val_loss: 0.8276 - val_accuracy: 0.7488\n",
            "Epoch 4/5\n",
            "26/26 [==============================] - 1s 53ms/step - loss: 0.6108 - accuracy: 0.8089 - val_loss: 1.0029 - val_accuracy: 0.7536\n",
            "Epoch 5/5\n",
            "26/26 [==============================] - 1s 50ms/step - loss: 0.6502 - accuracy: 0.8150 - val_loss: 0.9461 - val_accuracy: 0.7150\n"
          ]
        }
      ]
    },
    {
      "cell_type": "code",
      "source": [
        "# Evaluate the model\n",
        "test_loss, test_acc = model.evaluate(X_test, y_test)\n",
        "print(\"Test Accuracy:\", test_acc)\n"
      ],
      "metadata": {
        "colab": {
          "base_uri": "https://localhost:8080/"
        },
        "id": "cxVJRcmH-zur",
        "outputId": "619ec808-a7fb-456b-c76b-32d9f79e0eaf"
      },
      "execution_count": 76,
      "outputs": [
        {
          "output_type": "stream",
          "name": "stdout",
          "text": [
            "9/9 [==============================] - 0s 24ms/step - loss: 0.8509 - accuracy: 0.7490\n",
            "Test Accuracy: 0.7490347623825073\n"
          ]
        }
      ]
    },
    {
      "cell_type": "code",
      "source": [
        "\n",
        "# Save the model\n",
        "model.save(\"/content/gdrive/My Drive/Amount of Content(75-80).h5\")"
      ],
      "metadata": {
        "id": "O34OMKIF-zxH"
      },
      "execution_count": 72,
      "outputs": []
    },
    {
      "cell_type": "code",
      "source": [
        "import numpy as np\n",
        "from tensorflow.keras.preprocessing.image import load_img, img_to_array\n",
        "from tensorflow.keras.models import load_model\n",
        "from google.colab import drive\n",
        "\n",
        "drive.mount('/content/gdrive')\n",
        "\n",
        "# Load the trained model\n",
        "model_path = \"/content/gdrive/My Drive/Color Consistency(96).h5\"\n",
        "model = load_model(model_path)\n",
        "\n",
        "# Define function to predict intensity for an image\n",
        "def predict_intensity(image_path):\n",
        "    # Load and preprocess the image\n",
        "    image = load_img(image_path, target_size=(224, 224))\n",
        "    image_array = img_to_array(image)\n",
        "    image_array = np.expand_dims(image_array, axis=0)\n",
        "    # Make prediction using the model\n",
        "    prediction = model.predict(image_array)\n",
        "    predicted_intensity = np.argmax(prediction)\n",
        "    return predicted_intensity\n",
        "\n",
        "# Example usage\n",
        "image_path = \"/content/gdrive/My Drive/dataset final/Utility Apps (63).png\"\n",
        "predicted_intensity = predict_intensity(image_path)\n",
        "print(\"Predicted Intensity:\", predicted_intensity)\n"
      ],
      "metadata": {
        "colab": {
          "base_uri": "https://localhost:8080/"
        },
        "id": "jY96QNRV-zzY",
        "outputId": "59679896-e4cb-4764-8dbe-b9d4a6929fb3"
      },
      "execution_count": 14,
      "outputs": [
        {
          "output_type": "stream",
          "name": "stdout",
          "text": [
            "Drive already mounted at /content/gdrive; to attempt to forcibly remount, call drive.mount(\"/content/gdrive\", force_remount=True).\n",
            "1/1 [==============================] - 0s 337ms/step\n",
            "Predicted Intensity: 0\n"
          ]
        }
      ]
    },
    {
      "cell_type": "code",
      "source": [
        "Utility Apps (9).png\n",
        "bad (17).png"
      ],
      "metadata": {
        "id": "okaOFZ6m-z1g"
      },
      "execution_count": null,
      "outputs": []
    },
    {
      "cell_type": "code",
      "source": [],
      "metadata": {
        "id": "linekw_Q-z4G"
      },
      "execution_count": null,
      "outputs": []
    },
    {
      "cell_type": "code",
      "source": [],
      "metadata": {
        "id": "gIdj4pdN-z6J"
      },
      "execution_count": null,
      "outputs": []
    },
    {
      "cell_type": "code",
      "source": [],
      "metadata": {
        "id": "TnsKRJFf9UKz"
      },
      "execution_count": null,
      "outputs": []
    },
    {
      "cell_type": "code",
      "source": [
        "model.save(\"/content/gdrive/My Drive/cnn_model.h5\")"
      ],
      "metadata": {
        "colab": {
          "base_uri": "https://localhost:8080/"
        },
        "id": "iEKcv0-0sr00",
        "outputId": "8b856ea1-d76b-4859-e52c-9cbf30c8ff86"
      },
      "execution_count": null,
      "outputs": [
        {
          "output_type": "stream",
          "name": "stderr",
          "text": [
            "/usr/local/lib/python3.10/dist-packages/keras/src/engine/training.py:3103: UserWarning: You are saving your model as an HDF5 file via `model.save()`. This file format is considered legacy. We recommend using instead the native Keras format, e.g. `model.save('my_model.keras')`.\n",
            "  saving_api.save_model(\n"
          ]
        }
      ]
    },
    {
      "cell_type": "code",
      "source": [],
      "metadata": {
        "id": "0m01Gmux2OAY"
      },
      "execution_count": null,
      "outputs": []
    },
    {
      "cell_type": "code",
      "source": [
        "import numpy as np\n",
        "from tensorflow.keras.models import load_model\n",
        "from tensorflow.keras.preprocessing.image import load_img, img_to_array\n",
        "\n",
        "# Load the saved model\n",
        "model_path = \"/content/gdrive/My Drive/overlay_intensity1(71).h5\"\n",
        "model = load_model(model_path)\n",
        "\n",
        "# Define function to predict intensity for a given image\n",
        "def predict_intensity(image_path):\n",
        "    # Load and preprocess the image\n",
        "    image = load_img(image_path, target_size=(224, 224))\n",
        "    image_array = img_to_array(image)\n",
        "    image_array = np.expand_dims(image_array, axis=0)\n",
        "\n",
        "    # Make prediction\n",
        "    prediction = model.predict(image_array)\n",
        "\n",
        "    # Decode prediction\n",
        "    intensity_classes = ['Low', 'Moderate', 'High', 'None']\n",
        "    predicted_class = np.argmax(prediction)\n",
        "    intensity = intensity_classes[predicted_class]\n",
        "\n",
        "    return intensity\n",
        "\n",
        "# Path to the image for prediction\n",
        "image_path = \"/content/gdrive/My Drive/dataset final/bad (200).png\"\n",
        "\n",
        "# Predict intensity for the image\n",
        "predicted_intensity = predict_intensity(image_path)\n",
        "print(\"Predicted Overlay Intensity:\", predicted_intensity)\n"
      ],
      "metadata": {
        "colab": {
          "base_uri": "https://localhost:8080/"
        },
        "id": "vbEIjhI42OC2",
        "outputId": "b98cf1db-739d-4530-b65b-27f001818e20"
      },
      "execution_count": null,
      "outputs": [
        {
          "output_type": "stream",
          "name": "stdout",
          "text": [
            "1/1 [==============================] - 0s 82ms/step\n",
            "Predicted Overlay Intensity: Low\n"
          ]
        }
      ]
    },
    {
      "cell_type": "code",
      "source": [
        "encoder = LabelEncoder()\n",
        "target_encoded = encoder.fit_transform(target)\n",
        "print(target_encoded)"
      ],
      "metadata": {
        "colab": {
          "base_uri": "https://localhost:8080/"
        },
        "id": "sDqt3UMv2OFS",
        "outputId": "62515e61-b893-4df8-a0ef-e7b2358b2e63"
      },
      "execution_count": null,
      "outputs": [
        {
          "output_type": "stream",
          "name": "stdout",
          "text": [
            "[0 0 0 ... 1 1 2]\n"
          ]
        }
      ]
    },
    {
      "cell_type": "markdown",
      "source": [],
      "metadata": {
        "id": "KozH4RJx2NjX"
      }
    }
  ]
}